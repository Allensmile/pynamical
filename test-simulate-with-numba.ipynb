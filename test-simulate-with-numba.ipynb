{
 "cells": [
  {
   "cell_type": "markdown",
   "metadata": {},
   "source": [
    "# Testing a new version of `simulate` that uses numba compilation"
   ]
  },
  {
   "cell_type": "code",
   "execution_count": 1,
   "metadata": {
    "collapsed": false
   },
   "outputs": [],
   "source": [
    "import numpy as np, pandas as pd\n",
    "from numba import jit\n",
    "from pynamical import simulate as simulate_old, cubic_map as cubic_map_old"
   ]
  },
  {
   "cell_type": "code",
   "execution_count": 2,
   "metadata": {
    "collapsed": true
   },
   "outputs": [],
   "source": [
    "# decorate functions with numba jit\n",
    "@jit(cache=True, nopython=True)\n",
    "def logistic_map_jit(pop, rate):\n",
    "    return pop * rate * (1 - pop)"
   ]
  },
  {
   "cell_type": "code",
   "execution_count": 3,
   "metadata": {
    "collapsed": true
   },
   "outputs": [],
   "source": [
    "@jit(cache=True, nopython=True)\n",
    "def cubic_map_jit(pop, rate):\n",
    "    return rate * pop ** 3 + pop * (1 - rate)"
   ]
  },
  {
   "cell_type": "code",
   "execution_count": 4,
   "metadata": {
    "collapsed": false
   },
   "outputs": [],
   "source": [
    "# you can't pass a jitted function to a jitted function unless you turn off 'nopython' mode (which makes it slow)\n",
    "# in other words, you can't pass different model functions directly to the simulate function\n",
    "# instead, use a closure: \n",
    "# the make_simulator function returns a jitted simulator function that receives the jitted model function\n",
    "# without it being an argument passed to the simulator function, because of the closure local scope\n",
    "def make_simulator(model, num_gens=50, rate_min=0.5, rate_max=4, num_rates=8, num_discard=0, initial_pop=0.5):\n",
    "    \n",
    "    @jit(cache=True, nopython=True)\n",
    "    def simulator(num_gens=num_gens, rate_min=rate_min, rate_max=rate_max, num_rates=num_rates, \n",
    "                  num_discard=num_discard, initial_pop=initial_pop):\n",
    "        \n",
    "        pops = np.empty(shape=(num_gens*num_rates, 2), dtype=np.float64)\n",
    "        rates = np.linspace(rate_min, rate_max, num_rates)\n",
    "\n",
    "        # for each rate, run the function repeatedly, starting at the initial_pop\n",
    "        for rate_num, rate in zip(range(len(rates)), rates):\n",
    "            pop = initial_pop\n",
    "\n",
    "            # first run it num_discard times and ignore the results\n",
    "            for _ in range(num_discard):\n",
    "                pop = model(pop, rate)\n",
    "\n",
    "            # now that those gens are discarded, run it num_gens times and keep the results\n",
    "            for gen_num in range(num_gens):\n",
    "                row_num = gen_num + num_gens * rate_num\n",
    "                pops[row_num] = [rate, pop]\n",
    "                pop = model(pop, rate)\n",
    "        \n",
    "        return pops\n",
    "    \n",
    "    return simulator"
   ]
  },
  {
   "cell_type": "code",
   "execution_count": 5,
   "metadata": {
    "collapsed": true
   },
   "outputs": [],
   "source": [
    "def simulate_jit(model=logistic_map_jit, num_gens=50, rate_min=0.5, rate_max=4, num_rates=8, num_discard=0, initial_pop=0.5):\n",
    "    \n",
    "    # make the jitted simulator\n",
    "    simulator = make_simulator(model=model, num_gens=num_gens, rate_min=rate_min, rate_max=rate_max, \n",
    "                               num_rates=num_rates, num_discard=num_discard, initial_pop=initial_pop)\n",
    "    \n",
    "    # run the simulator to create the pops to pass to the dataframe\n",
    "    pops = simulator()\n",
    "    \n",
    "    # return a dataframe with one column for each growth rate and one row for each timestep (aka generation)\n",
    "    df = pd.DataFrame(data=pops, columns=['rate', 'pop'])\n",
    "    df.index = pd.MultiIndex.from_arrays([num_rates * list(range(num_gens)), df['rate'].values])\n",
    "    return df.drop(labels='rate', axis=1).unstack()['pop']"
   ]
  },
  {
   "cell_type": "markdown",
   "metadata": {},
   "source": [
    "## Now test the original version vs the Numba JIT version"
   ]
  },
  {
   "cell_type": "code",
   "execution_count": 6,
   "metadata": {
    "collapsed": true
   },
   "outputs": [],
   "source": [
    "num_gens = 1000\n",
    "num_rates = 1000"
   ]
  },
  {
   "cell_type": "code",
   "execution_count": 7,
   "metadata": {
    "collapsed": false
   },
   "outputs": [
    {
     "name": "stdout",
     "output_type": "stream",
     "text": [
      "1 loop, best of 3: 1.43 s per loop\n"
     ]
    }
   ],
   "source": [
    "%timeit simulate_old(num_gens=num_gens, num_rates=num_rates)"
   ]
  },
  {
   "cell_type": "code",
   "execution_count": 8,
   "metadata": {
    "collapsed": false
   },
   "outputs": [
    {
     "name": "stdout",
     "output_type": "stream",
     "text": [
      "1 loop, best of 3: 878 ms per loop\n"
     ]
    }
   ],
   "source": [
    "%timeit simulate_jit(num_gens=num_gens, num_rates=num_rates)"
   ]
  },
  {
   "cell_type": "markdown",
   "metadata": {},
   "source": [
    "With the logistic map, the JIT version takes about 60% of the time to execute compared to the original version.\n",
    "\n",
    "Now try the cubic map:"
   ]
  },
  {
   "cell_type": "code",
   "execution_count": 9,
   "metadata": {
    "collapsed": false
   },
   "outputs": [
    {
     "name": "stdout",
     "output_type": "stream",
     "text": [
      "1 loop, best of 3: 1.72 s per loop\n"
     ]
    }
   ],
   "source": [
    "%timeit simulate_old(model=cubic_map_old, num_gens=num_gens, num_rates=num_rates)"
   ]
  },
  {
   "cell_type": "code",
   "execution_count": 10,
   "metadata": {
    "collapsed": false
   },
   "outputs": [
    {
     "name": "stdout",
     "output_type": "stream",
     "text": [
      "1 loop, best of 3: 880 ms per loop\n"
     ]
    }
   ],
   "source": [
    "%timeit simulate_jit(model=cubic_map_jit, num_gens=num_gens, num_rates=num_rates)"
   ]
  },
  {
   "cell_type": "markdown",
   "metadata": {},
   "source": [
    "With the cubic map, the JIT version takes about 50% of the time to execute compared to the original version."
   ]
  }
 ],
 "metadata": {
  "kernelspec": {
   "display_name": "Python 3",
   "language": "python",
   "name": "python3"
  },
  "language_info": {
   "codemirror_mode": {
    "name": "ipython",
    "version": 3
   },
   "file_extension": ".py",
   "mimetype": "text/x-python",
   "name": "python",
   "nbconvert_exporter": "python",
   "pygments_lexer": "ipython3",
   "version": "3.5.2"
  }
 },
 "nbformat": 4,
 "nbformat_minor": 0
}
