{
 "cells": [
  {
   "cell_type": "markdown",
   "metadata": {},
   "source": [
    "Author: Geoff Boeing <br />\n",
    "Web: http://geoffboeing.com/2015/04/animated-3d-plots-python/  <br />\n",
    "Date: 2015-03-30 <br />\n",
    "Description: This notebook demonstrates how to make animated GIFs that pan and zoom around 3-D Poincaré plots to visualize fractal data sets, strange attractors, and chaos. If you get errors from images2gif, check out [this page](https://stackoverflow.com/questions/19149643/error-in-images2gif-py-with-globalpalette) or replace images2.gif.py with [this version](https://github.com/rec/echomesh/blob/master/code/python/external/images2gif.py)"
   ]
  },
  {
   "cell_type": "code",
   "execution_count": 1,
   "metadata": {
    "collapsed": false
   },
   "outputs": [],
   "source": [
    "%matplotlib inline\n",
    "import pandas as pd, numpy as np, matplotlib.pyplot as plt\n",
    "import random, glob\n",
    "import matplotlib.cm as cm, matplotlib.font_manager as fm, IPython.display as IPdisplay \n",
    "from mpl_toolkits.mplot3d import Axes3D\n",
    "from PIL import Image as PIL_Image\n",
    "from images2gif import writeGif"
   ]
  },
  {
   "cell_type": "code",
   "execution_count": 2,
   "metadata": {
    "collapsed": false
   },
   "outputs": [],
   "source": [
    "# define the fonts to use for plots\n",
    "family = 'Myriad Pro'\n",
    "title_font = fm.FontProperties(family=family, style='normal', size=16, weight='normal', stretch='normal')\n",
    "label_font = fm.FontProperties(family=family, style='normal', size=13, weight='normal', stretch='normal')"
   ]
  },
  {
   "cell_type": "code",
   "execution_count": 3,
   "metadata": {
    "collapsed": true
   },
   "outputs": [],
   "source": [
    "save_folder = 'images-animation/'"
   ]
  },
  {
   "cell_type": "markdown",
   "metadata": {},
   "source": [
    "## The next 4 cells just contain functions for the logistic map and creating static 3D plots... for full details on this, visit http://geoffboeing.com/2015/03/chaos-theory-logistic-map/"
   ]
  },
  {
   "cell_type": "code",
   "execution_count": 4,
   "metadata": {
    "collapsed": true
   },
   "outputs": [],
   "source": [
    "# for documentation of this function, see chaos-logistic-model.ipynb\n",
    "def logistic_map(pop, rate):\n",
    "    return pop * rate * (1 - pop)\n",
    "def logistic_model(num_gens=50, rate_min=0.5, rate_max=4, num_rates=8, num_discard=0, initial_pop=0.5):\n",
    "    pops = []\n",
    "    rates = np.linspace(rate_min, rate_max, num_rates)\n",
    "    for rate in rates:\n",
    "        pop = initial_pop\n",
    "        for _ in range(num_discard):\n",
    "            pop = logistic_map(pop, rate)\n",
    "        for _ in range(num_gens):\n",
    "            pops.append([rate, pop])\n",
    "            pop = logistic_map(pop, rate)\n",
    "    df = pd.DataFrame(data=pops, columns=['rate', 'pop'])\n",
    "    df.index = pd.MultiIndex.from_arrays([num_rates * range(num_gens), df['rate'].values])\n",
    "    return df.drop(labels='rate', axis=1).unstack()['pop']"
   ]
  },
  {
   "cell_type": "code",
   "execution_count": 5,
   "metadata": {
    "collapsed": true
   },
   "outputs": [],
   "source": [
    "# for documentation of this function, see chaos-logistic-poincare-plots.ipynb\n",
    "def get_poincare_points(pops, discard_gens=0, dimensions=2):\n",
    "    if discard_gens > 0:\n",
    "        discard_gens = np.arange(0, discard_gens)\n",
    "        pops = pops.drop(labels=pops.index[discard_gens])\n",
    "    points = []\n",
    "    point_columns = ['name', 'x', 'y', 'z']\n",
    "    for name in pops.columns:\n",
    "        for label, row in pops.iterrows():\n",
    "            if label < len(pops)-(dimensions-1):\n",
    "                point = [name]\n",
    "                for n in range(dimensions):\n",
    "                    point.append(pops[name][label + n])\n",
    "                points.append(point)\n",
    "    df = pd.DataFrame(points, columns=point_columns[0:dimensions + 1])\n",
    "    df.index = pd.MultiIndex.from_tuples(zip(df['name'], df.index), names=['name', ''])\n",
    "    df = df.drop(labels='name', axis=1)\n",
    "    return df"
   ]
  },
  {
   "cell_type": "code",
   "execution_count": 6,
   "metadata": {
    "collapsed": true
   },
   "outputs": [],
   "source": [
    "# for documentation of this function, see chaos-logistic-poincare-plots.ipynb\n",
    "def get_colors(color_request, length=1, color_reverse=False, default_color='r'):\n",
    "    color_list = []\n",
    "    if type(color_request) == list:\n",
    "        color_list = color_request        \n",
    "    elif type(color_request) == str:\n",
    "        if len(color_request) == 1:\n",
    "            color_list = [color_request]\n",
    "            default_color = color_request\n",
    "        elif len(color_request) > 1:\n",
    "            color_map = cm.get_cmap(color_request)\n",
    "            color_list = color_map([x / float(length) for x in range(length)]).tolist()\n",
    "    color_list = color_list + [default_color for n in range(length-len(color_list))] if len(color_list) < length else color_list\n",
    "    if color_reverse:\n",
    "        color_list.reverse()\n",
    "    return color_list"
   ]
  },
  {
   "cell_type": "code",
   "execution_count": 7,
   "metadata": {
    "collapsed": true
   },
   "outputs": [],
   "source": [
    "# for documentation of this function, see chaos-logistic-poincare-plots.ipynb\n",
    "def get_poincare_plot_3d(pops, discard_gens=0, height=8, width=10, \n",
    "                     xmin=0, xmax=1, ymin=0, ymax=1, zmin=0, zmax=1, remove_ticks=True,\n",
    "                     title='', elev=25, azim=240, dist=10,\n",
    "                     xlabel='Population (t)', ylabel='Population (t + 1)', zlabel='Population (t + 2)',\n",
    "                     marker='.', size=5, alpha=0.7, color='r', color_reverse=False, legend=False, \n",
    "                     legend_bbox_to_anchor=None):\n",
    "    points = get_poincare_points(pops, discard_gens, dimensions=3)\n",
    "    plots = []\n",
    "    index = points.index.get_level_values('name')\n",
    "    names = np.unique(index)\n",
    "    fig = plt.figure(figsize=(width, height))\n",
    "    ax = fig.gca(projection='3d')\n",
    "    ax.xaxis.set_pane_color((1,1,1,1))\n",
    "    ax.yaxis.set_pane_color((1,1,1,1))\n",
    "    ax.zaxis.set_pane_color((1,1,1,1))\n",
    "    ax.elev = elev\n",
    "    ax.azim = azim\n",
    "    ax.dist = dist\n",
    "    ax.set_title(title, fontproperties=title_font)\n",
    "    ax.set_xlim(xmin, xmax)\n",
    "    ax.set_ylim(ymin, ymax)\n",
    "    ax.set_zlim(zmin, zmax)\n",
    "    ax.set_xlabel(xlabel, fontproperties=label_font)\n",
    "    ax.set_ylabel(ylabel, fontproperties=label_font)  \n",
    "    ax.set_zlabel(zlabel, fontproperties=label_font)\n",
    "    if remove_ticks: #remove all ticks if argument is True\n",
    "        ax.tick_params(reset=True, axis='both', which='both', pad=0, width=0, length=0,\n",
    "                       bottom='off', top='off', left='off', right='off', \n",
    "                       labelbottom='off', labeltop='off', labelleft='off', labelright='off')\n",
    "    else:\n",
    "        ax.tick_params(reset=True)\n",
    "    color_list = get_colors(color, len(names), color_reverse)\n",
    "    for n in range(len(names)):\n",
    "        xyz = points.iloc[index == names[n]]\n",
    "        plots.append(ax.scatter(xyz['x'], xyz['y'], xyz['z'], \n",
    "                                marker=marker, c=color_list[n], edgecolor=color_list[n], s=size, alpha=alpha))\n",
    "    if legend:\n",
    "        ax.legend(plots, names.tolist(), loc=1, frameon=True, framealpha=1, bbox_to_anchor=legend_bbox_to_anchor)        \n",
    "    return fig, ax"
   ]
  },
  {
   "cell_type": "markdown",
   "metadata": {},
   "source": [
    "## Create a 3-D poincare plot as an animated gif that pans, rotates, and zooms. This demonstrates how the viewing perspective is composed of an elevation, a distance, and an azimuth."
   ]
  },
  {
   "cell_type": "code",
   "execution_count": 8,
   "metadata": {
    "collapsed": false
   },
   "outputs": [
    {
     "data": {
      "text/html": [
       "<img src=\"images-animation/demo-pan-rotate-zoom.gif\"/>"
      ],
      "text/plain": [
       "<IPython.core.display.Image object>"
      ]
     },
     "execution_count": 8,
     "metadata": {},
     "output_type": "execute_result"
    }
   ],
   "source": [
    "# set a filename, run the logistic model, and create the plot\n",
    "gif_filename = 'demo-pan-rotate-zoom'\n",
    "pops = logistic_model(num_gens=1000, rate_min=3.99, num_rates=1)\n",
    "fig, ax = get_poincare_plot_3d(pops, remove_ticks=False)\n",
    "\n",
    "# create 36 frames for the animated gif\n",
    "steps = 36\n",
    "\n",
    "# a viewing perspective is composed of an elevation, distance, and azimuth\n",
    "# define the range of values we'll cycle through for the distance of the viewing perspective\n",
    "min_dist = 7.\n",
    "max_dist = 10.\n",
    "dist_range = np.arange(min_dist, max_dist, (max_dist-min_dist)/steps)\n",
    "\n",
    "# define the range of values we'll cycle through for the elevation of the viewing perspective\n",
    "min_elev = 10.\n",
    "max_elev = 60.\n",
    "elev_range = np.arange(max_elev, min_elev, (min_elev-max_elev)/steps)\n",
    "\n",
    "# now create the individual frames that will be combined later into the animation\n",
    "for azimuth in range(0, 360, 360/steps):\n",
    "    \n",
    "    # pan down, rotate around, and zoom out\n",
    "    ax.azim = float(azimuth/3.)\n",
    "    ax.elev = elev_range[int(azimuth/(360./steps))]\n",
    "    ax.dist = dist_range[int(azimuth/(360./steps))]\n",
    "    \n",
    "    # set the figure title to the viewing perspective, and save each figure as a .png\n",
    "    fig.suptitle('elev=' + str(round(ax.elev,1)) + ', azim=' + str(round(ax.azim,1)) + ', dist=' + str(round(ax.dist,1)))\n",
    "    plt.savefig(save_folder + gif_filename + '/img' + str(azimuth).zfill(3) + '.png')\n",
    "    \n",
    "# don't display the static plot...\n",
    "plt.close()\n",
    "\n",
    "# ...instead, create an animated gif of all the frames, then display it inline\n",
    "images = [PIL_Image.open(image) for image in glob.glob(save_folder + gif_filename + '/*.png')]\n",
    "file_path_name = save_folder + gif_filename + '.gif'\n",
    "writeGif(file_path_name, images, duration=0.2)\n",
    "IPdisplay.Image(url=file_path_name)"
   ]
  },
  {
   "cell_type": "markdown",
   "metadata": {},
   "source": [
    "## Create a 3-D poincare plot as an animated gif starts by looking straight down at the x-y plane (this is what a 2-D plot would look like), then panning and rotating around to show the 3-D structure"
   ]
  },
  {
   "cell_type": "code",
   "execution_count": 9,
   "metadata": {
    "collapsed": false
   },
   "outputs": [
    {
     "data": {
      "text/html": [
       "<img src=\"images-animation/logistic-3d-poincare-plot.gif\"/>"
      ],
      "text/plain": [
       "<IPython.core.display.Image object>"
      ]
     },
     "execution_count": 9,
     "metadata": {},
     "output_type": "execute_result"
    }
   ],
   "source": [
    "# set a filename, run the logistic model, and create the plot\n",
    "gif_filename = 'logistic-3d-poincare-plot'\n",
    "pops = logistic_model(num_gens=1000, rate_min=3.99, num_rates=1)\n",
    "fig, ax = get_poincare_plot_3d(pops, color='r', xlabel='Population (t)', ylabel='Population (t + 1)', zlabel='')\n",
    "\n",
    "# look straight down at the x-y plane to start off\n",
    "ax.elev = 89.9\n",
    "ax.azim = 270.1\n",
    "ax.dist = 11.0\n",
    "\n",
    "# sweep the perspective down and rotate to reveal the 3-D structure of the strange attractor\n",
    "for n in range(0, 100):\n",
    "    if n > 19 and n < 23:\n",
    "        ax.set_xlabel('')\n",
    "        ax.set_ylabel('') #don't show axis labels while we move around, it looks weird\n",
    "        ax.elev = ax.elev-0.5 #start by panning down slowly\n",
    "    if n > 22 and n < 37:\n",
    "        ax.elev = ax.elev-1.0 #pan down faster\n",
    "    if n > 36 and n < 61:\n",
    "        ax.elev = ax.elev-1.5\n",
    "        ax.azim = ax.azim+1.1 #pan down faster and start to rotate\n",
    "    if n > 60 and n < 65:\n",
    "        ax.elev = ax.elev-1.0\n",
    "        ax.azim = ax.azim+1.1 #pan down slower and rotate same speed\n",
    "    if n > 64 and n < 74:\n",
    "        ax.elev = ax.elev-0.5\n",
    "        ax.azim = ax.azim+1.1 #pan down slowly and rotate same speed\n",
    "    if n > 73 and n < 77:\n",
    "        ax.elev = ax.elev-0.2\n",
    "        ax.azim = ax.azim+0.5 #end by panning/rotating slowly to stopping position   \n",
    "    if n > 76: #add axis labels at the end, when the plot isn't moving around\n",
    "        ax.set_xlabel('Population (t)')\n",
    "        ax.set_ylabel('Population (t + 1)')\n",
    "        ax.set_zlabel('Population (t + 2)')\n",
    "        \n",
    "    # add a figure title to each plot then save the figure to the disk\n",
    "    fig.suptitle('Logistic Map, r=3.99', fontsize=16, x=0.5, y=0.85)\n",
    "    plt.savefig(save_folder + gif_filename + '/img' + str(n).zfill(3) + '.png', bbox_inches='tight')\n",
    "\n",
    "# don't display the static plot\n",
    "plt.close()\n",
    "\n",
    "# create an animated gif of all the 3-D plot perspectives then display it inline\n",
    "images = [PIL_Image.open(image) for image in glob.glob(save_folder + gif_filename + '/*.png')]\n",
    "file_path_name = save_folder + gif_filename + '.gif'\n",
    "writeGif(file_path_name, images, duration=0.1)\n",
    "IPdisplay.Image(url=file_path_name)"
   ]
  },
  {
   "cell_type": "markdown",
   "metadata": {},
   "source": [
    "## Do the same thing again, but this time plot both the chaotic logistic model output and random noise"
   ]
  },
  {
   "cell_type": "code",
   "execution_count": 10,
   "metadata": {
    "collapsed": false
   },
   "outputs": [
    {
     "data": {
      "text/html": [
       "<div>\n",
       "<table border=\"1\" class=\"dataframe\">\n",
       "  <thead>\n",
       "    <tr style=\"text-align: right;\">\n",
       "      <th></th>\n",
       "      <th>chaos</th>\n",
       "      <th>random</th>\n",
       "    </tr>\n",
       "  </thead>\n",
       "  <tbody>\n",
       "    <tr>\n",
       "      <th>995</th>\n",
       "      <td>0.247214</td>\n",
       "      <td>0.294052</td>\n",
       "    </tr>\n",
       "    <tr>\n",
       "      <th>996</th>\n",
       "      <td>0.742535</td>\n",
       "      <td>0.532551</td>\n",
       "    </tr>\n",
       "    <tr>\n",
       "      <th>997</th>\n",
       "      <td>0.762795</td>\n",
       "      <td>0.470251</td>\n",
       "    </tr>\n",
       "    <tr>\n",
       "      <th>998</th>\n",
       "      <td>0.721947</td>\n",
       "      <td>0.696381</td>\n",
       "    </tr>\n",
       "    <tr>\n",
       "      <th>999</th>\n",
       "      <td>0.800951</td>\n",
       "      <td>0.912929</td>\n",
       "    </tr>\n",
       "  </tbody>\n",
       "</table>\n",
       "</div>"
      ],
      "text/plain": [
       "        chaos    random\n",
       "995  0.247214  0.294052\n",
       "996  0.742535  0.532551\n",
       "997  0.762795  0.470251\n",
       "998  0.721947  0.696381\n",
       "999  0.800951  0.912929"
      ]
     },
     "execution_count": 10,
     "metadata": {},
     "output_type": "execute_result"
    }
   ],
   "source": [
    "# run the logistic model and create random noise\n",
    "chaos_pops = logistic_model(num_gens=1000, rate_min=3.99, num_rates=1)\n",
    "random_pops = pd.DataFrame([random.random() for _ in range(0, 1000)], columns=['value'])\n",
    "pops = pd.concat([chaos_pops, random_pops], axis=1)\n",
    "pops.columns = ['chaos', 'random']\n",
    "pops.tail()"
   ]
  },
  {
   "cell_type": "code",
   "execution_count": 11,
   "metadata": {
    "collapsed": false
   },
   "outputs": [
    {
     "data": {
      "text/html": [
       "<img src=\"images-animation/3d-poincare-plot-chaos-vs-random.gif\"/>"
      ],
      "text/plain": [
       "<IPython.core.display.Image object>"
      ]
     },
     "execution_count": 11,
     "metadata": {},
     "output_type": "execute_result"
    }
   ],
   "source": [
    "# set a filename and then create the plot\n",
    "gif_filename = '3d-poincare-plot-chaos-vs-random'\n",
    "fig, ax = get_poincare_plot_3d(pops, color=['r', 'b'], xlabel='Population (t)', ylabel='Population (t + 1)', zlabel='', \n",
    "                               legend=True, legend_bbox_to_anchor=(0.94, 0.96))\n",
    "\n",
    "# configure the initial viewing perspective to look straight down at the x-y plane\n",
    "ax.elev = 89.9\n",
    "ax.azim = 270.1\n",
    "ax.dist = 11.0\n",
    "\n",
    "# sweep the perspective down and rotate to reveal the 3-D structure of the strange attractor\n",
    "for n in range(0, 100):\n",
    "    if n >= 20 and n <= 22:\n",
    "        ax.set_xlabel('')\n",
    "        ax.set_ylabel('') #don't show axis labels while we move around, it looks weird\n",
    "        ax.elev = ax.elev-0.5 #start by panning down slowly\n",
    "    if n >= 23 and n <= 36:\n",
    "        ax.elev = ax.elev-1.0 #pan down faster\n",
    "    if n >= 37 and n <= 60:\n",
    "        ax.elev = ax.elev-1.5\n",
    "        ax.azim = ax.azim+1.1 #pan down faster and start to rotate\n",
    "    if n >= 61 and n <= 64:\n",
    "        ax.elev = ax.elev-1.0\n",
    "        ax.azim = ax.azim+1.1 #pan down slower and rotate same speed\n",
    "    if n >= 65 and n <= 73:\n",
    "        ax.elev = ax.elev-0.5\n",
    "        ax.azim = ax.azim+1.1 #pan down slowly and rotate same speed\n",
    "    if n >= 74 and n <= 76:\n",
    "        ax.elev = ax.elev-0.2\n",
    "        ax.azim = ax.azim+0.5 #end by panning/rotating slowly to stopping position   \n",
    "    if n == 77: #add axis labels at the end, when the plot isn't moving around\n",
    "        ax.set_xlabel('Population (t)')\n",
    "        ax.set_ylabel('Population (t + 1)')\n",
    "        ax.set_zlabel('Population (t + 2)')\n",
    "        \n",
    "    # add a figure title to each plot then save the figure to the disk\n",
    "    fig.suptitle(u'3-D Poincaré Plot, chaos vs random', fontsize=16, x=0.5, y=0.85)\n",
    "    plt.savefig(save_folder + gif_filename + '/img' + str(n).zfill(3) + '.png', bbox_inches='tight')\n",
    "\n",
    "# don't display the static plot\n",
    "plt.close()\n",
    "\n",
    "# create an animated gif of all the 3-D plot perspectives then display it inline\n",
    "images = [PIL_Image.open(image) for image in glob.glob(save_folder + gif_filename + '/*.png')]\n",
    "file_path_name = save_folder + gif_filename + '.gif'\n",
    "writeGif(file_path_name, images, duration=0.1)\n",
    "IPdisplay.Image(url=file_path_name)"
   ]
  },
  {
   "cell_type": "markdown",
   "metadata": {},
   "source": [
    "## Create a 3-D Poincaré Plot to show the logistic map's strange attractors across the chaotic regime (from r=3.6 to r=4.0), twisting and curling around their state space in three dimensions. Animated it by panning and rotating to reveal the structure and its odd folds."
   ]
  },
  {
   "cell_type": "code",
   "execution_count": 12,
   "metadata": {
    "collapsed": false
   },
   "outputs": [],
   "source": [
    "# run the model for 2,000 generations for 50 growth rate parameters between 3.6 and 4.0\n",
    "pops = logistic_model(num_gens=2000, rate_min=3.6, rate_max=4.0, num_rates=50)\n",
    "points = get_poincare_points(pops, dimensions=3)"
   ]
  },
  {
   "cell_type": "code",
   "execution_count": 13,
   "metadata": {
    "collapsed": false
   },
   "outputs": [
    {
     "data": {
      "text/html": [
       "<img src=\"images-animation/logistic-3d-poincare-plot-chaos-pan-rotate.gif\"/>"
      ],
      "text/plain": [
       "<IPython.core.display.Image object>"
      ]
     },
     "execution_count": 13,
     "metadata": {},
     "output_type": "execute_result"
    }
   ],
   "source": [
    "# set a filename and create the plot\n",
    "gif_filename = 'logistic-3d-poincare-plot-chaos-pan-rotate'\n",
    "fig, ax = get_poincare_plot_3d(pops, color='hsv', color_reverse=True,\n",
    "                               xlabel='Population (t)', ylabel='Population (t + 1)', zlabel='')\n",
    "\n",
    "# configure the initial viewing perspective to look straight down at the x-y plane\n",
    "ax.elev = 89.9\n",
    "ax.azim = 270.1\n",
    "ax.dist = 11.0\n",
    "\n",
    "# sweep the perspective down and rotate to reveal the 3-D structure of the strange attractor\n",
    "for n in range(0, 100):\n",
    "    if n > 19 and n < 23:\n",
    "        ax.set_xlabel('')\n",
    "        ax.set_ylabel('') #don't show axis labels while we move around, it looks weird\n",
    "        ax.elev = ax.elev-0.5 #start by panning down slowly\n",
    "    if n > 22 and n < 37:\n",
    "        ax.elev = ax.elev-1.0 #pan down faster\n",
    "    if n > 36 and n < 61:\n",
    "        ax.elev = ax.elev-1.5\n",
    "        ax.azim = ax.azim+1.1 #pan down faster and start to rotate\n",
    "    if n > 60 and n < 65:\n",
    "        ax.elev = ax.elev-1.0\n",
    "        ax.azim = ax.azim+1.1 #pan down slower and rotate same speed\n",
    "    if n > 64 and n < 74:\n",
    "        ax.elev = ax.elev-0.5\n",
    "        ax.azim = ax.azim+1.1 #pan down slowly and rotate same speed\n",
    "    if n > 73 and n < 77:\n",
    "        ax.elev = ax.elev-0.2\n",
    "        ax.azim = ax.azim+0.5 #end by panning/rotating slowly to stopping position\n",
    "    \n",
    "    if n > 76: #add axis labels at the end, when the plot isn't moving around\n",
    "        ax.set_xlabel('Population (t)')\n",
    "        ax.set_ylabel('Population (t + 1)')\n",
    "        ax.set_zlabel('Population (t + 2)')\n",
    "    \n",
    "    # add a figure title to each plot then save the figure to the disk\n",
    "    fig.suptitle('Logistic Map, r=3.6 to r=4.0', fontsize=16, x=0.5, y=0.85)\n",
    "    plt.savefig(save_folder + gif_filename + '/img' + str(n).zfill(3) + '.png', bbox_inches='tight')\n",
    "\n",
    "# don't display the static plot\n",
    "plt.close()\n",
    "\n",
    "# create an animated gif of all the 3-D plot perspectives then display it inline\n",
    "images = [PIL_Image.open(image) for image in glob.glob(save_folder + gif_filename + '/*.png')]\n",
    "file_path_name = save_folder + gif_filename + '.gif'\n",
    "writeGif(file_path_name, images, duration=0.1)\n",
    "IPdisplay.Image(url=file_path_name)"
   ]
  },
  {
   "cell_type": "markdown",
   "metadata": {
    "collapsed": true
   },
   "source": [
    "## Now zoom into the 3D plot"
   ]
  },
  {
   "cell_type": "code",
   "execution_count": 14,
   "metadata": {
    "collapsed": false
   },
   "outputs": [],
   "source": [
    "# run the model for 4,000 generations for 50 growth rate parameters between 3.6 and 4.0\n",
    "pops = logistic_model(num_gens=4000, rate_min=3.6, rate_max=4.0, num_rates=50)"
   ]
  },
  {
   "cell_type": "code",
   "execution_count": 15,
   "metadata": {
    "collapsed": false,
    "scrolled": true
   },
   "outputs": [
    {
     "data": {
      "text/html": [
       "<img src=\"images-animation/logistic-3d-poincare-plot-chaotic-regime.gif\"/>"
      ],
      "text/plain": [
       "<IPython.core.display.Image object>"
      ]
     },
     "execution_count": 15,
     "metadata": {},
     "output_type": "execute_result"
    }
   ],
   "source": [
    "# set a filename and create the plot\n",
    "gif_filename = 'logistic-3d-poincare-plot-chaotic-regime'\n",
    "fig, ax = get_poincare_plot_3d(pops, color='hsv', color_reverse=True)\n",
    "\n",
    "# configure the initial viewing perspective\n",
    "ax.elev = 25.\n",
    "ax.azim = 321.\n",
    "ax.dist = 11.0\n",
    "\n",
    "# zoom in to reveal the 3-D structure of the strange attractor\n",
    "for n in range(0, 100):\n",
    "    if n <= 18:\n",
    "        ax.azim = ax.azim-0.2 #begin by rotating very slowly\n",
    "    if n >= 19 and n <= 29:\n",
    "        ax.azim = ax.azim-10\n",
    "        ax.dist = ax.dist-0.05\n",
    "        ax.elev = ax.elev-2 #quickly whip around to the other side\n",
    "    if n >= 33 and n <= 49:\n",
    "        ax.azim = ax.azim+3\n",
    "        ax.dist = ax.dist-0.55\n",
    "        ax.elev = ax.elev+1.4 #zoom into the center\n",
    "    if n >= 61 and n <= 79:\n",
    "        ax.azim = ax.azim-2\n",
    "        ax.elev = ax.elev-2\n",
    "        ax.dist = ax.dist+0.2 #pull back and pan up\n",
    "    if n >= 80:\n",
    "        ax.azim = ax.azim-0.2 #end by rotating very slowly\n",
    "    \n",
    "    # add a figure title to each plot then save the figure to the disk\n",
    "    fig.suptitle('Logistic Map, r=3.6 to r=4.0', fontsize=16, x=0.5, y=0.85)\n",
    "    plt.savefig(save_folder + gif_filename + '/img' + str(n).zfill(3) + '.png', bbox_inches='tight')\n",
    "\n",
    "# don't display the static plot\n",
    "plt.close()\n",
    "\n",
    "# create an animated gif of all the 3-D plot perspectives then display it inline\n",
    "images = [PIL_Image.open(image) for image in glob.glob(save_folder + gif_filename + '/*.png')]\n",
    "file_path_name = save_folder + gif_filename + '.gif'\n",
    "writeGif(file_path_name, images, duration=0.1)\n",
    "IPdisplay.Image(url=file_path_name)"
   ]
  },
  {
   "cell_type": "markdown",
   "metadata": {
    "collapsed": true
   },
   "source": [
    "## For more information about chaos theory, the logistic map, bifurcation plots, Poincaré plots, and strange attractors, check out my write-up:\n",
    "http://geoffboeing.com/2015/03/chaos-theory-logistic-map/\n",
    "<br />and<br />\n",
    "http://geoffboeing.com/2015/04/visualizing-chaos-and-randomness/\n",
    "<br />and<br />\n",
    "http://geoffboeing.com/2015/04/animated-3d-plots-python/"
   ]
  }
 ],
 "metadata": {
  "kernelspec": {
   "display_name": "Python 2",
   "language": "python",
   "name": "python2"
  },
  "language_info": {
   "codemirror_mode": {
    "name": "ipython",
    "version": 2
   },
   "file_extension": ".py",
   "mimetype": "text/x-python",
   "name": "python",
   "nbconvert_exporter": "python",
   "pygments_lexer": "ipython2",
   "version": "2.7.11"
  }
 },
 "nbformat": 4,
 "nbformat_minor": 0
}
